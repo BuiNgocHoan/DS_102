{
 "cells": [
  {
   "cell_type": "code",
   "execution_count": 1,
   "metadata": {},
   "outputs": [],
   "source": [
    "# Su dung thu vien\n",
    "import numpy as np\n",
    "import pandas as pd\n",
    "import matplotlib.pyplot as plt"
   ]
  },
  {
   "cell_type": "code",
   "execution_count": 6,
   "metadata": {},
   "outputs": [],
   "source": [
    "# import dataset da tai ve\n",
    "# Load the dataset with the correct delimiter\n",
    "data = pd.read_csv(r\"C:\\Users\\Administrator\\Downloads\\predict+students+dropout+and+academic+success\\data.csv\", delimiter=';')\n"
   ]
  },
  {
   "cell_type": "code",
   "execution_count": 7,
   "metadata": {},
   "outputs": [
    {
     "name": "stdout",
     "output_type": "stream",
     "text": [
      "Index(['Marital status', 'Application mode', 'Application order', 'Course',\n",
      "       'Daytime/evening attendance\\t', 'Previous qualification',\n",
      "       'Previous qualification (grade)', 'Nacionality',\n",
      "       'Mother's qualification', 'Father's qualification',\n",
      "       'Mother's occupation', 'Father's occupation', 'Admission grade',\n",
      "       'Displaced', 'Educational special needs', 'Debtor',\n",
      "       'Tuition fees up to date', 'Gender', 'Scholarship holder',\n",
      "       'Age at enrollment', 'International',\n",
      "       'Curricular units 1st sem (credited)',\n",
      "       'Curricular units 1st sem (enrolled)',\n",
      "       'Curricular units 1st sem (evaluations)',\n",
      "       'Curricular units 1st sem (approved)',\n",
      "       'Curricular units 1st sem (grade)',\n",
      "       'Curricular units 1st sem (without evaluations)',\n",
      "       'Curricular units 2nd sem (credited)',\n",
      "       'Curricular units 2nd sem (enrolled)',\n",
      "       'Curricular units 2nd sem (evaluations)',\n",
      "       'Curricular units 2nd sem (approved)',\n",
      "       'Curricular units 2nd sem (grade)',\n",
      "       'Curricular units 2nd sem (without evaluations)', 'Unemployment rate',\n",
      "       'Inflation rate', 'GDP', 'Target'],\n",
      "      dtype='object')\n"
     ]
    }
   ],
   "source": [
    "print(data.columns)"
   ]
  },
  {
   "cell_type": "code",
   "execution_count": 8,
   "metadata": {},
   "outputs": [],
   "source": [
    "# Merge classes: Dropout/Enrolled: 0 (Non-graduate), Graduate: 1\n",
    "data['Target'] = data['Target'].map({\n",
    "    'Graduate': 1,\n",
    "    'Dropout': 0,\n",
    "    'Enrolled': 0\n",
    "})"
   ]
  },
  {
   "cell_type": "code",
   "execution_count": 9,
   "metadata": {},
   "outputs": [],
   "source": [
    "# Chia bo du lieu thanh bien: features (X), va target (y)\n",
    "X = data.drop(columns=['Target']).values  # loai bo cot Target\n",
    "y = data['Target'].values.reshape(-1, 1)  # Dam bao Y la 1 column vector"
   ]
  },
  {
   "cell_type": "code",
   "execution_count": 25,
   "metadata": {},
   "outputs": [],
   "source": [
    "# Normalize features\n",
    "X_mean = np.mean(X, axis=0)\n",
    "X_std = np.std(X, axis=0)\n",
    "X = (X - X_mean) / X_std"
   ]
  },
  {
   "cell_type": "markdown",
   "metadata": {},
   "source": [
    "### Assignment 1:"
   ]
  },
  {
   "cell_type": "code",
   "execution_count": 26,
   "metadata": {},
   "outputs": [],
   "source": [
    "from tqdm import tqdm\n",
    "\n",
    "class LogisticRegression:\n",
    "    def __init__(self, epoch: int, lr: float) -> None:\n",
    "        self.epoch = epoch\n",
    "        self.lr = lr\n",
    "        self.losses = []\n",
    "        self.metrics = []\n",
    "    \n",
    "    def sigmoid(self, z: np.ndarray) -> np.ndarray:\n",
    "        return 1 / (1 + np.exp(-z))\n",
    "    \n",
    "    def loss_fn(self, y: np.ndarray, y_hat: np.ndarray) -> float:\n",
    "        return -(y * np.log(y_hat + 1e-15) + (1 - y) * np.log(1 - y_hat + 1e-15)).mean()\n",
    "\n",
    "    def accuracy(self, y: np.ndarray, y_hat: np.ndarray) -> float:\n",
    "        return (1 - np.abs(y - (y_hat > 0.5).astype(float))).mean()\n",
    "    \n",
    "    def fit(self, X: np.ndarray, y: np.ndarray) -> None:\n",
    "        n = X.shape[0]\n",
    "        d = X.shape[1]\n",
    "        self.theta = np.zeros((d, 1))\n",
    "        with tqdm(range(self.epoch)) as pb:\n",
    "            for e in pb:\n",
    "                pb.set_description(f\"Epoch {e + 1}\")\n",
    "                y_hat = self.predict(X)\n",
    "\n",
    "                diff = y_hat - y\n",
    "                gradient = (1 / n) * np.matmul(X.T, diff)\n",
    "                self.theta -= self.lr * gradient\n",
    "\n",
    "                loss = self.loss_fn(y, y_hat)\n",
    "                acc = self.accuracy(y, y_hat)\n",
    "                pb.set_postfix({\n",
    "                    \"loss\": loss,\n",
    "                    \"acc\": acc\n",
    "                })\n",
    "                \n",
    "                self.losses.append(loss)\n",
    "                self.metrics.append(acc)\n",
    "                \n",
    "    def predict(self, X: np.ndarray) -> np.ndarray:\n",
    "        z = np.matmul(X, self.theta)\n",
    "        y_hat = self.sigmoid(z)\n",
    "        return y_hat"
   ]
  },
  {
   "cell_type": "code",
   "execution_count": 27,
   "metadata": {},
   "outputs": [],
   "source": [
    "# tao ban sao cua object (instantiate)\n",
    "logistic_reg = LogisticRegression(500, 0.01)"
   ]
  },
  {
   "cell_type": "code",
   "execution_count": 28,
   "metadata": {},
   "outputs": [
    {
     "name": "stderr",
     "output_type": "stream",
     "text": [
      "Epoch 500: 100%|██████████| 500/500 [00:01<00:00, 477.03it/s, loss=0.417, acc=0.825]\n"
     ]
    }
   ],
   "source": [
    "# train model\n",
    "logistic_reg.fit(X,y)"
   ]
  },
  {
   "cell_type": "code",
   "execution_count": 29,
   "metadata": {},
   "outputs": [
    {
     "name": "stdout",
     "output_type": "stream",
     "text": [
      "Final Accuracy: 82.50%\n"
     ]
    }
   ],
   "source": [
    "# danh gia do chinh xac cua mo hinh\n",
    "y_pred = logistic_reg.predict(X)\n",
    "accuracy = logistic_reg.accuracy(y, y_pred)\n",
    "print(f\"Final Accuracy: {accuracy * 100:.2f}%\")"
   ]
  },
  {
   "cell_type": "code",
   "execution_count": 38,
   "metadata": {},
   "outputs": [
    {
     "data": {
      "image/png": "[encoded data removed]",
      "text/plain": [
       "<Figure size 1000x500 with 1 Axes>"
      ]
     },
     "metadata": {},
     "output_type": "display_data"
    }
   ],
   "source": [
    "# truc quan hoa ham loss\n",
    "plt.figure(figsize=(10, 5))\n",
    "plt.plot(logistic_reg.losses, label='Loss', color='blue')\n",
    "plt.title('Loss Function During Training')\n",
    "plt.xlabel('Epochs')\n",
    "plt.ylabel('Loss')\n",
    "plt.legend()\n",
    "plt.grid()\n",
    "plt.show()"
   ]
  },
  {
   "cell_type": "markdown",
   "metadata": {},
   "source": [
    "### Assignment 2:"
   ]
  },
  {
   "cell_type": "code",
   "execution_count": 33,
   "metadata": {},
   "outputs": [],
   "source": [
    "class SoftmaxRegression:\n",
    "    def __init__(self, epoch: int, lr: float) -> None:\n",
    "        self.epoch = epoch\n",
    "        self.lr = lr\n",
    "        self.losses = []\n",
    "        self.metrics = []\n",
    "    \n",
    "    def softmax(self, z: np.ndarray) -> np.ndarray:\n",
    "        exp_z = np.exp(z - np.max(z, axis=1, keepdims=True)) # ngan overflow khi z qua lon\n",
    "        return exp_z / np.sum(exp_z, axis=1, keepdims=True)\n",
    "    \n",
    "    def loss_fn(self, y: np.ndarray, y_hat: np.ndarray) -> float:\n",
    "        return -np.mean(np.sum(y * np.log(y_hat + 1e-6), axis=1))\n",
    "\n",
    "    def accuracy(self, y: np.ndarray, y_hat: np.ndarray) -> float:\n",
    "        return (1 - np.abs(y - y_hat)).mean()\n",
    "    \n",
    "    def fit(self, X: np.ndarray, y: np.ndarray) -> None:\n",
    "        n, d = X.shape\n",
    "        k = y.shape[1]  # Number of classes in y (2 from Graduate & Non-Graduate)\n",
    "        self.theta = np.random.rand(d, k) * 0.01  # Initialize weights\n",
    "        with tqdm(range(self.epoch)) as pb:\n",
    "            for e in pb:\n",
    "                pb.set_description(f\"Epoch {e + 1}\")\n",
    "\n",
    "                s = self.predict(X)\n",
    "\n",
    "                # Calculate loss and accuracy\n",
    "                loss = self.loss_fn(y, s)\n",
    "                acc = self.accuracy(y, s)\n",
    "\n",
    "                gradient = (1 / n) * np.dot(X.T, (s - y))\n",
    "                self.theta -= self.lr * gradient\n",
    "                \n",
    "                pb.set_postfix({\n",
    "                    \"loss\": loss,\n",
    "                    \"acc\": acc\n",
    "                })\n",
    "                \n",
    "                self.losses.append(loss)\n",
    "                self.metrics.append(acc)\n",
    "                \n",
    "    def predict(self, X: np.ndarray) -> np.ndarray:\n",
    "        z = np.dot(X, self.theta)\n",
    "        return self.softmax(z)"
   ]
  },
  {
   "cell_type": "code",
   "execution_count": 34,
   "metadata": {},
   "outputs": [],
   "source": [
    "# One-hot encode the target variable\n",
    "y_one_hot = np.zeros((y.size, 2))  # Two classes\n",
    "y_one_hot[np.arange(y.size), y.flatten()] = 1"
   ]
  },
  {
   "cell_type": "code",
   "execution_count": null,
   "metadata": {},
   "outputs": [
    {
     "name": "stderr",
     "output_type": "stream",
     "text": [
      "Epoch 500: 100%|██████████| 500/500 [00:01<00:00, 339.09it/s, loss=0.389, acc=0.73] \n"
     ]
    }
   ],
   "source": [
    "# Train model\n",
    "softmax_reg = SoftmaxRegression(epoch=500, lr=0.01)\n",
    "softmax_reg.fit(X, y_one_hot)"
   ]
  },
  {
   "cell_type": "code",
   "execution_count": 36,
   "metadata": {},
   "outputs": [
    {
     "name": "stdout",
     "output_type": "stream",
     "text": [
      "Final Accuracy: 73.00%\n"
     ]
    }
   ],
   "source": [
    "# danh gia mo hinh\n",
    "y_pred = softmax_reg.predict(X)\n",
    "accuracy = softmax_reg.accuracy(y_one_hot, y_pred)\n",
    "print(f\"Final Accuracy: {accuracy * 100:.2f}%\")"
   ]
  },
  {
   "cell_type": "code",
   "execution_count": 37,
   "metadata": {},
   "outputs": [
    {
     "data": {
      "image/png": "[encoded data removed]",
      "text/plain": [
       "<Figure size 1000x500 with 1 Axes>"
      ]
     },
     "metadata": {},
     "output_type": "display_data"
    }
   ],
   "source": [
    "# truc quan hoa ham loss\n",
    "plt.figure(figsize=(10, 5))\n",
    "plt.plot(softmax_reg.losses, label='Loss', color='blue')\n",
    "plt.title('Loss Function During Training')\n",
    "plt.xlabel('Epochs')\n",
    "plt.ylabel('Loss')\n",
    "plt.legend()\n",
    "plt.grid()\n",
    "plt.show()"
   ]
  },
  {
   "cell_type": "markdown",
   "metadata": {},
   "source": [
    "### Assignment 3:"
   ]
  },
  {
   "cell_type": "code",
   "execution_count": 57,
   "metadata": {},
   "outputs": [],
   "source": [
    "# them thu vien sklearn de su dung logistic regression/softmax regression\n",
    "from sklearn.model_selection import train_test_split\n",
    "from sklearn.linear_model import LogisticRegression\n",
    "from sklearn.metrics import accuracy_score, classification_report\n",
    "from sklearn.preprocessing import OneHotEncoder, StandardScaler\n",
    "# thu vien cho Softmax Regression\n",
    "import torch\n",
    "import torch.nn as nn\n",
    "import torch.optim as optim"
   ]
  },
  {
   "cell_type": "code",
   "execution_count": 43,
   "metadata": {},
   "outputs": [],
   "source": [
    "y2 = data['Target'].values.ravel()"
   ]
  },
  {
   "cell_type": "code",
   "execution_count": 45,
   "metadata": {},
   "outputs": [],
   "source": [
    "# chia dataset thanh training va testing set\n",
    "X_train, X_test, y_train, y_test = train_test_split(X, y2, test_size=0.2, random_state=42)"
   ]
  },
  {
   "cell_type": "code",
   "execution_count": 46,
   "metadata": {},
   "outputs": [],
   "source": [
    "# chuan hoa\n",
    "scaler = StandardScaler()\n",
    "X_train = scaler.fit_transform(X_train)\n",
    "X_test = scaler.transform(X_test)"
   ]
  },
  {
   "cell_type": "code",
   "execution_count": 47,
   "metadata": {},
   "outputs": [],
   "source": [
    "# 1. Implement Logistic Regression (Binary Classification)\n",
    "logistic_model = LogisticRegression()\n",
    "logistic_model.fit(X_train, y_train)\n",
    "y_pred_logistic = logistic_model.predict(X_test)"
   ]
  },
  {
   "cell_type": "code",
   "execution_count": 48,
   "metadata": {},
   "outputs": [
    {
     "name": "stdout",
     "output_type": "stream",
     "text": [
      "Logistic Regression Accuracy: 0.8282485875706215\n",
      "Classification Report:\n",
      "               precision    recall  f1-score   support\n",
      "\n",
      "           0       0.88      0.78      0.83       467\n",
      "           1       0.78      0.88      0.83       418\n",
      "\n",
      "    accuracy                           0.83       885\n",
      "   macro avg       0.83      0.83      0.83       885\n",
      "weighted avg       0.83      0.83      0.83       885\n",
      "\n"
     ]
    }
   ],
   "source": [
    "# Evaluate Logistic Regression\n",
    "logistic_accuracy = accuracy_score(y_test, y_pred_logistic)\n",
    "print(\"Logistic Regression Accuracy:\", logistic_accuracy)\n",
    "print(\"Classification Report:\\n\", classification_report(y_test, y_pred_logistic))"
   ]
  },
  {
   "cell_type": "code",
   "execution_count": 58,
   "metadata": {},
   "outputs": [],
   "source": [
    "# 2. Implement Softmax Regression (Multi-Class Classification)\n",
    "X_train2, X_test2, y_train2, y_test2 = train_test_split(X, y, test_size=0.2, random_state=42)"
   ]
  },
  {
   "cell_type": "code",
   "execution_count": 59,
   "metadata": {},
   "outputs": [],
   "source": [
    "# Define the neural network model\n",
    "class SimpleNet(nn.Module):\n",
    "    def __init__(self, n_features):\n",
    "        super(SimpleNet, self).__init__()\n",
    "        self.fc = nn.Linear(n_features, 2)  # 2 output classes for softmax\n",
    "\n",
    "    def forward(self, X):\n",
    "        return self.fc(X)\n",
    "\n",
    "# Create a model instance\n",
    "model = SimpleNet(X_train.shape[1])\n",
    "criterion = nn.CrossEntropyLoss()  # For softmax regression\n",
    "optimizer = optim.Adam(model.parameters(), lr=0.01)\n",
    "\n",
    "# Training loop\n",
    "for epoch in range(100):\n",
    "    model.train()\n",
    "    optimizer.zero_grad()\n",
    "    output = model(torch.FloatTensor(X_train))\n",
    "    loss = criterion(output, torch.LongTensor(y_train))\n",
    "    loss.backward()\n",
    "    optimizer.step()"
   ]
  },
  {
   "cell_type": "code",
   "execution_count": 61,
   "metadata": {},
   "outputs": [
    {
     "name": "stdout",
     "output_type": "stream",
     "text": [
      "Softmax Regression Accuracy: 82.15%\n"
     ]
    }
   ],
   "source": [
    "# danh gia mo hinh\n",
    "model.eval()\n",
    "with torch.no_grad():\n",
    "    output = model(torch.FloatTensor(X_test))\n",
    "    _, predicted = torch.max(output.data, 1)\n",
    "    accuracy = (predicted.numpy() == y_test).mean()\n",
    "\n",
    "print(f\"Softmax Regression Accuracy: {accuracy * 100:.2f}%\")"
   ]
  }
 ],
 "metadata": {
  "kernelspec": {
   "display_name": "Python 3",
   "language": "python",
   "name": "python3"
  },
  "language_info": {
   "codemirror_mode": {
    "name": "ipython",
    "version": 3
   },
   "file_extension": ".py",
   "mimetype": "text/x-python",
   "name": "python",
   "nbconvert_exporter": "python",
   "pygments_lexer": "ipython3",
   "version": "3.13.2"
  }
 },
 "nbformat": 4,
 "nbformat_minor": 2
}
